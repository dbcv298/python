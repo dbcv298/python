{
 "metadata": {
  "language_info": {
   "codemirror_mode": {
    "name": "ipython",
    "version": 3
   },
   "file_extension": ".py",
   "mimetype": "text/x-python",
   "name": "python",
   "nbconvert_exporter": "python",
   "pygments_lexer": "ipython3",
   "version": "3.9.4"
  },
  "orig_nbformat": 2,
  "kernelspec": {
   "name": "python394jvsc74a57bd04031aef3c69f8675a7949532f9aac60c85f842a130bbaac7b0984a7de9990a67",
   "display_name": "Python 3.9.4 64-bit"
  }
 },
 "nbformat": 4,
 "nbformat_minor": 2,
 "cells": [
  {
   "cell_type": "code",
   "execution_count": 1,
   "metadata": {},
   "outputs": [
    {
     "output_type": "stream",
     "name": "stdout",
     "text": [
      "1\n10\n1998\nSí amigos, hola a todos\n<class 'int'>\n<class 'str'>\n"
     ]
    }
   ],
   "source": [
    "#Pintar variables, sumas y adiciones\n",
    "\n",
    "n1 = 1\n",
    "N1 = 10\n",
    "saludo = \"hola a todos\"\n",
    "\n",
    "print(n1)\n",
    "print(N1)\n",
    "print(N1 * 100 + N1 * 90 + N1 * 9 + n1 * 8)\n",
    "print(\"Sí amigos, \" + saludo)\n",
    "\n",
    "print(type(n1))\n",
    "print(type(saludo))"
   ]
  },
  {
   "cell_type": "code",
   "execution_count": 50,
   "metadata": {},
   "outputs": [
    {
     "output_type": "stream",
     "name": "stdout",
     "text": [
      "Mamaguevo\nMAMA\nm m g v o\n9\n"
     ]
    }
   ],
   "source": [
    "#Cadenas\n",
    "\n",
    "cadena=\"mamaguevo\"\n",
    "\n",
    "print(cadena.capitalize())\n",
    "print(cadena.upper()[:4])\n",
    "print(cadena[0],cadena[2],cadena[4],cadena[7],cadena[8])\n",
    "print(len(cadena))"
   ]
  },
  {
   "cell_type": "code",
   "execution_count": 51,
   "metadata": {},
   "outputs": [
    {
     "output_type": "stream",
     "name": "stdout",
     "text": [
      "Así que te llamas Daniel! Qué nombre tan bonito!\nAsí que te llamas Daniel! Qué nombre tan bonito!\n"
     ]
    }
   ],
   "source": [
    "#Inputs\n",
    "\n",
    "name = input(\"¿Cómo te llamas? \")\n",
    "print(\"Así que te llamas \" + name + \"! Qué nombre tan bonito!\")\n",
    "print(f\"Así que te llamas {name}! Qué nombre tan bonito!\")"
   ]
  },
  {
   "cell_type": "code",
   "execution_count": 52,
   "metadata": {},
   "outputs": [
    {
     "output_type": "stream",
     "name": "stdout",
     "text": [
      "33.333333333333336\n33.33\n"
     ]
    }
   ],
   "source": [
    "#Formats\n",
    "\n",
    "numero = 100 / 3\n",
    "print(numero)\n",
    "print(\"{n:1.2f}\".format(n=numero))"
   ]
  },
  {
   "cell_type": "code",
   "execution_count": null,
   "metadata": {},
   "outputs": [],
   "source": []
  }
 ]
}